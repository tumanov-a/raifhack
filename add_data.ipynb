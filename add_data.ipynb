{
 "cells": [
  {
   "cell_type": "code",
   "execution_count": 13,
   "metadata": {},
   "outputs": [],
   "source": [
    "import pandas as pd\n",
    "import numpy as np\n",
    "import seaborn as sns\n",
    "import matplotlib.pyplot as plt\n",
    "import os, os.path\n",
    "import re\n",
    "\n",
    "%matplotlib inline\n",
    "\n",
    "pd.set_option('display.max_columns', 100)\n",
    "pd.set_option('display.max_rows', 100)"
   ]
  },
  {
   "cell_type": "code",
   "execution_count": 25,
   "metadata": {},
   "outputs": [],
   "source": [
    "not_inc_regions = [ \n",
    "                    'армавир',\n",
    "                    'амурская область',\n",
    "                    'архангельсая область без ао',\n",
    "                    'архангельская область',\n",
    "                    'архангельская область без авт. округа',\n",
    "                    'архангельская область без авт.округа',\n",
    "                    'архангельская область без автономного округа',\n",
    "                    'архангельская область без ао',\n",
    "                    'архангельская область без нао',\n",
    "                    'архангельская область кроме ненецкого автономного округа',\n",
    "                    'астраханская область',\n",
    "                    'белская область',\n",
    "                    'в том числе: ненецкий автономный округ',\n",
    "                    'владимирская область',\n",
    "                    'вологда',\n",
    "                    'дагестан',\n",
    "                    'дальневосточный',\n",
    "                    'еврейская авт.область',\n",
    "                    'еврейская автономная область',\n",
    "                    'забайкальский край',\n",
    "                    'ингушетия',\n",
    "                    'кабардино-балкарская',\n",
    "                    'калмыкия',\n",
    "                    'камчатский край',\n",
    "                    'карачаево-черкесская',\n",
    "                    'краснодар',\n",
    "                    'крым',\n",
    "                    'курганская область',\n",
    "                    'магаданская область',\n",
    "                    'марий эл',\n",
    "                    'мурманская область',\n",
    "                    'ненецкий авт.округ',\n",
    "                    'ненецкий автономный округ',\n",
    "                    'ненецкий автономный округ архангельская область',\n",
    "                    'ненецкий ао',\n",
    "                    'новороссийск',\n",
    "                    'новская область',\n",
    "                    'оренбургская область',\n",
    "                    'отгружено товаров собственного производства, выполнено работ и услуг собственными силами малыми предприятиями включая микропредприятия',\n",
    "                    'приволжский',\n",
    "                    'псковская область',\n",
    "                    'рязанская область',\n",
    "                    'саха якутия',\n",
    "                    'сахалинская область',\n",
    "                    'севастополь',\n",
    "                    'северная осетия - алания',\n",
    "                    'северная осетия- алания',\n",
    "                    'северная осетия-алания',\n",
    "                    'северо-западный',\n",
    "                    'северо-кавказский',\n",
    "                    'сибирский',\n",
    "                    'сочи',\n",
    "                    'средняя численность работников малых предприятий без микропредприятий',\n",
    "                    'средняя численность работников микропредприятий',\n",
    "                    'тамбовская область',\n",
    "                    'тверская область',\n",
    "                    'томск',\n",
    "                    'уральский',\n",
    "                    'хабаровский край',\n",
    "                    'хакасия',\n",
    "                    'череповец',\n",
    "                    'чеченская',\n",
    "                    'чита',\n",
    "                    'чувашская',\n",
    "                    'чувашская - чувашия',\n",
    "                    'чувашская -чувашия',\n",
    "                    'чукотский авт.округ',\n",
    "                    'чукотский автономный округ',\n",
    "                    'южный',\n",
    "                    'ямало-ненецкий авт.округ',\n",
    "                    'ямало-ненецкий автономный округ',\n",
    "                    'ямало-ненецкий автономный округ тюменская область',\n",
    "                    'ямало-ненецкий ао',\n",
    "                    'nan'\n",
    "]"
   ]
  },
  {
   "cell_type": "code",
   "execution_count": 26,
   "metadata": {},
   "outputs": [],
   "source": [
    "def replaces(data):\n",
    "    map_repl = {'город федерального значения': '',\n",
    "                'город': '',\n",
    "                ')': '',\n",
    "                '(': '',\n",
    "                'h': 'н',\n",
    "                'k': 'к',\n",
    "                'республика': '',\n",
    "                'г.': '',\n",
    "               'столица российской федерации': ''}\n",
    "    for old_value, new_value in map_repl.items():\n",
    "        data['region'] = data['region'].apply(lambda x: str(x).lower().replace(old_value, new_value).strip())\n",
    "    data['region'] = data['region'].apply(lambda x: re.sub(r'\\s+', ' ', x))\n",
    "    return data"
   ]
  },
  {
   "cell_type": "code",
   "execution_count": 27,
   "metadata": {},
   "outputs": [],
   "source": [
    "def preprocess_data(data):\n",
    "    for col in data.columns[1:]:\n",
    "        data = replaces(data)\n",
    "        data[col] = data[col].apply(lambda x: str(x).strip().replace('-', 'nan').replace(' ', '').replace(',', '.')).astype('float')\n",
    "        data = data[data['region'].apply(lambda x: 'федерация' not in x and 'федеральный округ' not in x)]\n",
    "        data = data.iloc[:-1]\n",
    "\n",
    "        regions_for_repl = {\n",
    "            'тюменская область без ао': 'тюменская область',\n",
    "            'удмуртская': 'удмуртия',\n",
    "            'ханты-мансийский ао-югра': 'ханты-мансийский ао',\n",
    "            'кемеровская область - кузбасс': 'кемеровская область',\n",
    "            'адыгея адыгея': 'адыгея',\n",
    "            'тюменская область без автономных округов': 'тюменская область',\n",
    "            'тюменская область без авт. округов': 'тюменская область',\n",
    "            'белская область': 'белгородская область',\n",
    "            'нижеская область': 'нижегородская область',\n",
    "            'татарстан татарстан': 'татарстан',\n",
    "            'тюменская область без авт.округов': 'тюменская область'\n",
    "        }\n",
    "        \n",
    "        data.loc[data['region'].apply(lambda x: 'ханты' in x), 'region'] = 'ханты-мансийский ао'\n",
    "        \n",
    "        for old_region_name, new_region_name in regions_for_repl.items():\n",
    "            data['region'] = data['region'].apply(lambda x: x.replace(old_region_name, new_region_name))\n",
    "        \n",
    "    return data"
   ]
  },
  {
   "cell_type": "code",
   "execution_count": 28,
   "metadata": {},
   "outputs": [],
   "source": [
    "def merge_data(file_paths):\n",
    "    for i, path in enumerate(file_paths):\n",
    "\n",
    "        data = pd.read_csv(path, sep='\\t', encoding='windows-1251')\n",
    "        data = preprocess_data(data)\n",
    "        \n",
    "        if i == 0:\n",
    "            merged_data = data.copy()\n",
    "        elif i != 0:\n",
    "            merged_data = pd.merge(merged_data, data, how='outer', on='region')\n",
    "            \n",
    "    cols = [col for col in merged_data.columns if 'Unnamed' not in col]\n",
    "    \n",
    "    return merged_data[cols]"
   ]
  },
  {
   "cell_type": "code",
   "execution_count": 29,
   "metadata": {
    "scrolled": false
   },
   "outputs": [],
   "source": [
    "file_paths = [os.path.join(os.getcwd(), 'rosstat', 'csv', file_name) for file_name in os.listdir(os.path.join(os.getcwd(), 'rosstat', 'csv'))]\n",
    "\n",
    "merged_data = merge_data(file_paths)"
   ]
  },
  {
   "cell_type": "code",
   "execution_count": 30,
   "metadata": {},
   "outputs": [
    {
     "name": "stdout",
     "output_type": "stream",
     "text": [
      "(196761, 29)\n",
      "(163920, 29)\n",
      "(51, 29)\n"
     ]
    }
   ],
   "source": [
    "print(merged_data.shape)\n",
    "\n",
    "for region in not_inc_regions:\n",
    "    merged_data = merged_data[merged_data['region'] != region].copy()\n",
    "    \n",
    "print(merged_data.shape)\n",
    "\n",
    "merged_data.drop_duplicates('region', keep='last', inplace=True)\n",
    "\n",
    "print(merged_data.shape)"
   ]
  },
  {
   "cell_type": "code",
   "execution_count": 31,
   "metadata": {},
   "outputs": [],
   "source": [
    "cols_with_nulls = merged_data.isnull().sum()\n",
    "cols_with_nulls = cols_with_nulls[cols_with_nulls > 0].index\n",
    "\n",
    "for col in cols_with_nulls:\n",
    "    merged_data.fillna(merged_data[col].median(), inplace=True)\n",
    "    \n",
    "merged_data.reset_index(inplace=True, drop=True)"
   ]
  },
  {
   "cell_type": "code",
   "execution_count": 37,
   "metadata": {},
   "outputs": [],
   "source": [
    "merged_data.to_csv('./data/data/add_data.csv', index=False)"
   ]
  },
  {
   "cell_type": "code",
   "execution_count": 32,
   "metadata": {},
   "outputs": [
    {
     "name": "stderr",
     "output_type": "stream",
     "text": [
      "C:\\Users\\tuman\\Anaconda3\\lib\\site-packages\\IPython\\core\\interactiveshell.py:3058: DtypeWarning: Columns (1) have mixed types.Specify dtype option on import or set low_memory=False.\n",
      "  interactivity=interactivity, compiler=compiler, result=result)\n"
     ]
    }
   ],
   "source": [
    "train_data = pd.read_csv('./data/data/train.csv')\n",
    "test_data = pd.read_csv('./data/data/test.csv')\n",
    "train_data['region'] = train_data['region'].apply(lambda x: x.lower())"
   ]
  },
  {
   "cell_type": "code",
   "execution_count": 33,
   "metadata": {},
   "outputs": [],
   "source": [
    "new_train_data = pd.merge(train_data, merged_data, on='region', how='left')"
   ]
  },
  {
   "cell_type": "code",
   "execution_count": 35,
   "metadata": {},
   "outputs": [
    {
     "data": {
      "text/plain": [
       "city                                                  0\n",
       "Доля городского населения в общей численности         0\n",
       "price_type                                            0\n",
       "realty_type                                           0\n",
       "date                                                  0\n",
       "                                                  ...  \n",
       "reform_mean_floor_count_1000                      16708\n",
       "reform_house_population_500                       27234\n",
       "reform_mean_year_building_500                     29637\n",
       "reform_mean_floor_count_500                       30168\n",
       "floor                                            176237\n",
       "Length: 105, dtype: int64"
      ]
     },
     "execution_count": 35,
     "metadata": {},
     "output_type": "execute_result"
    }
   ],
   "source": [
    "new_train_data.isnull().sum().sort_values()"
   ]
  },
  {
   "cell_type": "code",
   "execution_count": null,
   "metadata": {},
   "outputs": [],
   "source": []
  }
 ],
 "metadata": {
  "kernelspec": {
   "display_name": "Python 3",
   "language": "python",
   "name": "python3"
  },
  "language_info": {
   "codemirror_mode": {
    "name": "ipython",
    "version": 3
   },
   "file_extension": ".py",
   "mimetype": "text/x-python",
   "name": "python",
   "nbconvert_exporter": "python",
   "pygments_lexer": "ipython3",
   "version": "3.7.4"
  }
 },
 "nbformat": 4,
 "nbformat_minor": 2
}
